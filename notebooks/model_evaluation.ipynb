{
 "cells": [
  {
   "cell_type": "markdown",
   "id": "e88a00ec",
   "metadata": {},
   "source": [
    "# Evaluate sample predictions\n",
    "\n",
    "The evaluation command compares a predictions CSV against the reference trade\n",
    "log included with the repository. The CLI emits a JSON summary that mirrors the\n",
    "metrics used in continuous evaluation."
   ]
  },
  {
   "cell_type": "code",
   "execution_count": null,
   "id": "9fabd920",
   "metadata": {},
   "outputs": [],
   "source": [
    "from pathlib import Path\n",
    "import subprocess\n",
    "\n",
    "NOTEBOOK_DIR = Path().resolve()\n",
    "DATA_DIR = (NOTEBOOK_DIR / \"data\" if (NOTEBOOK_DIR / \"data\").exists() else NOTEBOOK_DIR.parent / \"notebooks\" / \"data\").resolve()\n",
    "PRED_FILE = DATA_DIR / \"predictions.csv\"\n",
    "TRADES_FILE = DATA_DIR / \"trades_raw.csv\"\n",
    "print(f\"Predictions file: {PRED_FILE}\")\n",
    "print(f\"Trades file: {TRADES_FILE}\")\n",
    "\n",
    "if not (PRED_FILE.exists() and TRADES_FILE.exists()):\n",
    "    raise FileNotFoundError(\"Missing sample CSV files under notebooks/data\")\n"
   ]
  },
  {
   "cell_type": "code",
   "execution_count": null,
   "id": "19168d84",
   "metadata": {},
   "outputs": [],
   "source": [
    "evaluate_cmd = [\n",
    "    \"botcopier\",\n",
    "    \"evaluate\",\n",
    "    str(PRED_FILE),\n",
    "    str(TRADES_FILE),\n",
    "    \"--window\",\n",
    "    \"900\",\n",
    "]\n",
    "print(\" \".join(evaluate_cmd))\n",
    "try:\n",
    "    result = subprocess.run(evaluate_cmd, check=True, capture_output=True, text=True)\n",
    "except FileNotFoundError as exc:\n",
    "    raise RuntimeError(\"The 'botcopier' CLI is not installed in this environment\") from exc\n",
    "\n",
    "print(\"CLI response:\n",
    "\", result.stdout)\n"
   ]
  }
 ],
 "metadata": {
  "kernelspec": {
   "display_name": "Python 3",
   "language": "python",
   "name": "python3"
  }
 },
 "nbformat": 4,
 "nbformat_minor": 5
}
