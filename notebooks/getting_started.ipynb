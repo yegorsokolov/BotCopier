{
 "cells": [
  {
   "cell_type": "markdown",
   "id": "324abec0",
   "metadata": {},
   "source": [
    "# BotCopier CLI quickstart\n",
    "\n",
    "This notebook mirrors the steps from the documentation to run the Typer-based\n",
    "CLI against the bundled sample dataset. Execute the cells sequentially to\n",
    "materialise a training workspace and inspect the generated artifacts."
   ]
  },
  {
   "cell_type": "code",
   "execution_count": null,
   "id": "6fd47ff6",
   "metadata": {},
   "outputs": [],
   "source": [
    "from pathlib import Path\n",
    "import subprocess\n",
    "import tempfile\n",
    "\n",
    "NOTEBOOK_DIR = Path().resolve()\n",
    "DATA_DIR = (NOTEBOOK_DIR / \"data\" if (NOTEBOOK_DIR / \"data\").exists() else NOTEBOOK_DIR.parent / \"notebooks\" / \"data\").resolve()\n",
    "ARTIFACT_DIR = Path(tempfile.mkdtemp(prefix=\"botcopier-artifacts-\"))\n",
    "print(f\"Using data from {DATA_DIR}\")\n",
    "print(f\"Writing outputs to {ARTIFACT_DIR}\")\n",
    "\n",
    "if not DATA_DIR.exists():\n",
    "    raise FileNotFoundError(\"Expected sample data under notebooks/data\")\n"
   ]
  },
  {
   "cell_type": "code",
   "execution_count": null,
   "id": "21a5e4b5",
   "metadata": {},
   "outputs": [],
   "source": [
    "train_cmd = [\n",
    "    \"botcopier\",\n",
    "    \"train\",\n",
    "    str(DATA_DIR),\n",
    "    str(ARTIFACT_DIR),\n",
    "    \"--model-type\",\n",
    "    \"logreg\",\n",
    "    \"--random-seed\",\n",
    "    \"7\",\n",
    "]\n",
    "print(\" \".join(train_cmd))\n",
    "try:\n",
    "    subprocess.run(train_cmd, check=True)\n",
    "except FileNotFoundError as exc:\n",
    "    raise RuntimeError(\"The 'botcopier' CLI is not installed in this environment\") from exc\n"
   ]
  },
  {
   "cell_type": "code",
   "execution_count": null,
   "id": "43feede5",
   "metadata": {},
   "outputs": [],
   "source": [
    "model_cards = sorted(ARTIFACT_DIR.glob(\"model_card*.md\"))\n",
    "if model_cards:\n",
    "    first_card = model_cards[0]\n",
    "    print(first_card.read_text().splitlines()[0])\n",
    "else:\n",
    "    print(\"No model card generated; inspect the CLI output above for errors.\")\n"
   ]
  }
 ],
 "metadata": {
  "kernelspec": {
   "display_name": "Python 3",
   "language": "python",
   "name": "python3"
  }
 },
 "nbformat": 4,
 "nbformat_minor": 5
}
