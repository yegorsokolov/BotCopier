{
 "cells": [
  {
   "cell_type": "markdown",
   "id": "52d6674f",
   "metadata": {},
   "source": [
    "# CLI Walkthrough\n",
    "\n",
    "This notebook demonstrates how to invoke the consolidated Typer CLI in-process using `typer.testing.CliRunner`."
   ]
  },
  {
   "cell_type": "code",
   "execution_count": null,
   "id": "f8de2d2c",
   "metadata": {},
   "outputs": [],
   "source": [
    "from pathlib import Path\n",
    "from typer.testing import CliRunner\n",
    "\n",
    "from botcopier.cli import app\n",
    "\n",
    "DATA_DIR = Path(\"notebooks/data\")\n",
    "ARTIFACTS_DIR = Path(\"artifacts/cli_walkthrough\")\n",
    "runner = CliRunner()\n"
   ]
  },
  {
   "cell_type": "code",
   "execution_count": null,
   "id": "130374bd",
   "metadata": {},
   "outputs": [],
   "source": [
    "# Trigger a lightweight training run on the bundled sample logs.\n",
    "train_result = runner.invoke(\n",
    "    app,\n",
    "    [\n",
    "        \"train\",\n",
    "        str(DATA_DIR),\n",
    "        str(ARTIFACTS_DIR),\n",
    "        \"--model-type\",\n",
    "        \"logreg\",\n",
    "        \"--random-seed\",\n",
    "        \"1\",\n",
    "    ],\n",
    ")\n",
    "train_result.exit_code\n"
   ]
  },
  {
   "cell_type": "code",
   "execution_count": null,
   "id": "06cc358e",
   "metadata": {},
   "outputs": [],
   "source": [
    "# Evaluate the example predictions against the generated configuration.\n",
    "evaluate_result = runner.invoke(\n",
    "    app,\n",
    "    [\n",
    "        \"evaluate\",\n",
    "        str(DATA_DIR / \"predictions.csv\"),\n",
    "        str(DATA_DIR / \"trades_raw.csv\"),\n",
    "        \"--window\",\n",
    "        \"900\",\n",
    "    ],\n",
    ")\n",
    "evaluate_result.exit_code\n"
   ]
  },
  {
   "cell_type": "code",
   "execution_count": null,
   "id": "ace08ccd",
   "metadata": {},
   "outputs": [],
   "source": [
    "# Inspect aggregated tick statistics using the analyze-ticks subcommand.\n",
    "analyze_result = runner.invoke(\n",
    "    app,\n",
    "    [\n",
    "        \"analyze-ticks\",\n",
    "        str(DATA_DIR / \"ticks.csv\"),\n",
    "        \"--interval\",\n",
    "        \"daily\",\n",
    "    ],\n",
    ")\n",
    "analyze_result.stdout\n"
   ]
  }
 ],
 "metadata": {
  "kernelspec": {
   "display_name": "Python 3",
   "language": "python",
   "name": "python3"
  },
  "language_info": {
   "name": "python",
   "pygments_lexer": "ipython3",
   "version": "3.10"
  }
 },
 "nbformat": 4,
 "nbformat_minor": 5
}
